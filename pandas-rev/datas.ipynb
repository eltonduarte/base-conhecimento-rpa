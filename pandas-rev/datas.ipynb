{
 "cells": [
  {
   "cell_type": "code",
   "execution_count": 1,
   "id": "107df217",
   "metadata": {
    "collapsed": true
   },
   "outputs": [
    {
     "name": "stdout",
     "output_type": "stream",
     "text": [
      "Requirement already satisfied: yfinance in c:\\users\\elton.duarte\\appdata\\local\\anaconda3\\lib\\site-packages (0.2.36)\n",
      "Requirement already satisfied: pandas>=1.3.0 in c:\\users\\elton.duarte\\appdata\\local\\anaconda3\\lib\\site-packages (from yfinance) (2.0.3)\n",
      "Requirement already satisfied: numpy>=1.16.5 in c:\\users\\elton.duarte\\appdata\\local\\anaconda3\\lib\\site-packages (from yfinance) (1.24.3)\n",
      "Requirement already satisfied: requests>=2.31 in c:\\users\\elton.duarte\\appdata\\local\\anaconda3\\lib\\site-packages (from yfinance) (2.31.0)\n",
      "Requirement already satisfied: multitasking>=0.0.7 in c:\\users\\elton.duarte\\appdata\\local\\anaconda3\\lib\\site-packages (from yfinance) (0.0.11)\n",
      "Requirement already satisfied: lxml>=4.9.1 in c:\\users\\elton.duarte\\appdata\\local\\anaconda3\\lib\\site-packages (from yfinance) (4.9.3)\n",
      "Requirement already satisfied: appdirs>=1.4.4 in c:\\users\\elton.duarte\\appdata\\local\\anaconda3\\lib\\site-packages (from yfinance) (1.4.4)\n",
      "Requirement already satisfied: pytz>=2022.5 in c:\\users\\elton.duarte\\appdata\\local\\anaconda3\\lib\\site-packages (from yfinance) (2023.3.post1)\n",
      "Requirement already satisfied: frozendict>=2.3.4 in c:\\users\\elton.duarte\\appdata\\local\\anaconda3\\lib\\site-packages (from yfinance) (2.4.0)\n",
      "Requirement already satisfied: peewee>=3.16.2 in c:\\users\\elton.duarte\\appdata\\local\\anaconda3\\lib\\site-packages (from yfinance) (3.17.0)\n",
      "Requirement already satisfied: beautifulsoup4>=4.11.1 in c:\\users\\elton.duarte\\appdata\\local\\anaconda3\\lib\\site-packages (from yfinance) (4.12.2)\n",
      "Requirement already satisfied: html5lib>=1.1 in c:\\users\\elton.duarte\\appdata\\local\\anaconda3\\lib\\site-packages (from yfinance) (1.1)\n",
      "Requirement already satisfied: soupsieve>1.2 in c:\\users\\elton.duarte\\appdata\\local\\anaconda3\\lib\\site-packages (from beautifulsoup4>=4.11.1->yfinance) (2.4)\n",
      "Requirement already satisfied: six>=1.9 in c:\\users\\elton.duarte\\appdata\\local\\anaconda3\\lib\\site-packages (from html5lib>=1.1->yfinance) (1.16.0)\n",
      "Requirement already satisfied: webencodings in c:\\users\\elton.duarte\\appdata\\local\\anaconda3\\lib\\site-packages (from html5lib>=1.1->yfinance) (0.5.1)\n",
      "Requirement already satisfied: python-dateutil>=2.8.2 in c:\\users\\elton.duarte\\appdata\\local\\anaconda3\\lib\\site-packages (from pandas>=1.3.0->yfinance) (2.8.2)\n",
      "Requirement already satisfied: tzdata>=2022.1 in c:\\users\\elton.duarte\\appdata\\local\\anaconda3\\lib\\site-packages (from pandas>=1.3.0->yfinance) (2023.3)\n",
      "Requirement already satisfied: charset-normalizer<4,>=2 in c:\\users\\elton.duarte\\appdata\\local\\anaconda3\\lib\\site-packages (from requests>=2.31->yfinance) (2.0.4)\n",
      "Requirement already satisfied: idna<4,>=2.5 in c:\\users\\elton.duarte\\appdata\\local\\anaconda3\\lib\\site-packages (from requests>=2.31->yfinance) (3.4)\n",
      "Requirement already satisfied: urllib3<3,>=1.21.1 in c:\\users\\elton.duarte\\appdata\\local\\anaconda3\\lib\\site-packages (from requests>=2.31->yfinance) (1.26.16)\n",
      "Requirement already satisfied: certifi>=2017.4.17 in c:\\users\\elton.duarte\\appdata\\local\\anaconda3\\lib\\site-packages (from requests>=2.31->yfinance) (2023.7.22)\n"
     ]
    }
   ],
   "source": [
    "!pip install yfinance"
   ]
  },
  {
   "cell_type": "code",
   "execution_count": 2,
   "id": "1a1629c0",
   "metadata": {},
   "outputs": [],
   "source": [
    "import yfinance as y"
   ]
  },
  {
   "cell_type": "code",
   "execution_count": 5,
   "id": "b42e05f4",
   "metadata": {},
   "outputs": [
    {
     "name": "stderr",
     "output_type": "stream",
     "text": [
      "[*********************100%%**********************]  1 of 1 completed\n"
     ]
    }
   ],
   "source": [
    "petrobras = y.download('petr4.sa', period= '3y')"
   ]
  },
  {
   "cell_type": "code",
   "execution_count": 6,
   "id": "227191d4",
   "metadata": {},
   "outputs": [
    {
     "data": {
      "text/html": [
       "<div>\n",
       "<style scoped>\n",
       "    .dataframe tbody tr th:only-of-type {\n",
       "        vertical-align: middle;\n",
       "    }\n",
       "\n",
       "    .dataframe tbody tr th {\n",
       "        vertical-align: top;\n",
       "    }\n",
       "\n",
       "    .dataframe thead th {\n",
       "        text-align: right;\n",
       "    }\n",
       "</style>\n",
       "<table border=\"1\" class=\"dataframe\">\n",
       "  <thead>\n",
       "    <tr style=\"text-align: right;\">\n",
       "      <th></th>\n",
       "      <th>Open</th>\n",
       "      <th>High</th>\n",
       "      <th>Low</th>\n",
       "      <th>Close</th>\n",
       "      <th>Adj Close</th>\n",
       "      <th>Volume</th>\n",
       "    </tr>\n",
       "    <tr>\n",
       "      <th>Date</th>\n",
       "      <th></th>\n",
       "      <th></th>\n",
       "      <th></th>\n",
       "      <th></th>\n",
       "      <th></th>\n",
       "      <th></th>\n",
       "    </tr>\n",
       "  </thead>\n",
       "  <tbody>\n",
       "    <tr>\n",
       "      <th>2021-08-23</th>\n",
       "      <td>26.940001</td>\n",
       "      <td>27.309999</td>\n",
       "      <td>26.770000</td>\n",
       "      <td>27.02</td>\n",
       "      <td>10.238599</td>\n",
       "      <td>70161500</td>\n",
       "    </tr>\n",
       "    <tr>\n",
       "      <th>2021-08-24</th>\n",
       "      <td>27.290001</td>\n",
       "      <td>27.629999</td>\n",
       "      <td>27.240000</td>\n",
       "      <td>27.58</td>\n",
       "      <td>10.450798</td>\n",
       "      <td>49831400</td>\n",
       "    </tr>\n",
       "    <tr>\n",
       "      <th>2021-08-25</th>\n",
       "      <td>27.629999</td>\n",
       "      <td>27.830000</td>\n",
       "      <td>27.379999</td>\n",
       "      <td>27.73</td>\n",
       "      <td>10.507634</td>\n",
       "      <td>46031200</td>\n",
       "    </tr>\n",
       "    <tr>\n",
       "      <th>2021-08-26</th>\n",
       "      <td>27.580000</td>\n",
       "      <td>27.879999</td>\n",
       "      <td>27.469999</td>\n",
       "      <td>27.49</td>\n",
       "      <td>10.416693</td>\n",
       "      <td>41061300</td>\n",
       "    </tr>\n",
       "    <tr>\n",
       "      <th>2021-08-27</th>\n",
       "      <td>27.700001</td>\n",
       "      <td>28.490000</td>\n",
       "      <td>27.670000</td>\n",
       "      <td>28.49</td>\n",
       "      <td>10.795620</td>\n",
       "      <td>76465300</td>\n",
       "    </tr>\n",
       "  </tbody>\n",
       "</table>\n",
       "</div>"
      ],
      "text/plain": [
       "                 Open       High        Low  Close  Adj Close    Volume\n",
       "Date                                                                   \n",
       "2021-08-23  26.940001  27.309999  26.770000  27.02  10.238599  70161500\n",
       "2021-08-24  27.290001  27.629999  27.240000  27.58  10.450798  49831400\n",
       "2021-08-25  27.629999  27.830000  27.379999  27.73  10.507634  46031200\n",
       "2021-08-26  27.580000  27.879999  27.469999  27.49  10.416693  41061300\n",
       "2021-08-27  27.700001  28.490000  27.670000  28.49  10.795620  76465300"
      ]
     },
     "execution_count": 6,
     "metadata": {},
     "output_type": "execute_result"
    }
   ],
   "source": [
    "petrobras.head()"
   ]
  },
  {
   "cell_type": "code",
   "execution_count": 8,
   "id": "9c8fb118",
   "metadata": {},
   "outputs": [
    {
     "data": {
      "text/plain": [
       "[Timestamp('2021-08-23 00:00:00'),\n",
       " Timestamp('2021-08-24 00:00:00'),\n",
       " Timestamp('2021-08-25 00:00:00'),\n",
       " Timestamp('2021-08-26 00:00:00'),\n",
       " Timestamp('2021-08-27 00:00:00'),\n",
       " Timestamp('2021-08-30 00:00:00'),\n",
       " Timestamp('2021-08-31 00:00:00'),\n",
       " Timestamp('2021-09-01 00:00:00'),\n",
       " Timestamp('2021-09-02 00:00:00'),\n",
       " Timestamp('2021-09-03 00:00:00')]"
      ]
     },
     "execution_count": 8,
     "metadata": {},
     "output_type": "execute_result"
    }
   ],
   "source": [
    "[indice for indice in petrobras.index][0:10]"
   ]
  },
  {
   "cell_type": "code",
   "execution_count": 17,
   "id": "d91f6648",
   "metadata": {},
   "outputs": [],
   "source": [
    "df1 = petrobras"
   ]
  },
  {
   "cell_type": "code",
   "execution_count": 19,
   "id": "fca24dd7",
   "metadata": {},
   "outputs": [
    {
     "data": {
      "text/html": [
       "<div>\n",
       "<style scoped>\n",
       "    .dataframe tbody tr th:only-of-type {\n",
       "        vertical-align: middle;\n",
       "    }\n",
       "\n",
       "    .dataframe tbody tr th {\n",
       "        vertical-align: top;\n",
       "    }\n",
       "\n",
       "    .dataframe thead th {\n",
       "        text-align: right;\n",
       "    }\n",
       "</style>\n",
       "<table border=\"1\" class=\"dataframe\">\n",
       "  <thead>\n",
       "    <tr style=\"text-align: right;\">\n",
       "      <th></th>\n",
       "      <th>Open</th>\n",
       "      <th>High</th>\n",
       "      <th>Low</th>\n",
       "      <th>Close</th>\n",
       "      <th>Adj Close</th>\n",
       "      <th>Volume</th>\n",
       "    </tr>\n",
       "    <tr>\n",
       "      <th>Date</th>\n",
       "      <th></th>\n",
       "      <th></th>\n",
       "      <th></th>\n",
       "      <th></th>\n",
       "      <th></th>\n",
       "      <th></th>\n",
       "    </tr>\n",
       "  </thead>\n",
       "  <tbody>\n",
       "    <tr>\n",
       "      <th>2021-08-23</th>\n",
       "      <td>26.940001</td>\n",
       "      <td>27.309999</td>\n",
       "      <td>26.77</td>\n",
       "      <td>27.02</td>\n",
       "      <td>10.238599</td>\n",
       "      <td>70161500</td>\n",
       "    </tr>\n",
       "  </tbody>\n",
       "</table>\n",
       "</div>"
      ],
      "text/plain": [
       "                 Open       High    Low  Close  Adj Close    Volume\n",
       "Date                                                               \n",
       "2021-08-23  26.940001  27.309999  26.77  27.02  10.238599  70161500"
      ]
     },
     "execution_count": 19,
     "metadata": {},
     "output_type": "execute_result"
    }
   ],
   "source": [
    "df1.loc[df1.index == '2021-08-23']"
   ]
  },
  {
   "cell_type": "code",
   "execution_count": 23,
   "id": "d30cfca0",
   "metadata": {
    "scrolled": true
   },
   "outputs": [
    {
     "data": {
      "text/html": [
       "<div>\n",
       "<style scoped>\n",
       "    .dataframe tbody tr th:only-of-type {\n",
       "        vertical-align: middle;\n",
       "    }\n",
       "\n",
       "    .dataframe tbody tr th {\n",
       "        vertical-align: top;\n",
       "    }\n",
       "\n",
       "    .dataframe thead th {\n",
       "        text-align: right;\n",
       "    }\n",
       "</style>\n",
       "<table border=\"1\" class=\"dataframe\">\n",
       "  <thead>\n",
       "    <tr style=\"text-align: right;\">\n",
       "      <th></th>\n",
       "      <th>Open</th>\n",
       "      <th>High</th>\n",
       "      <th>Low</th>\n",
       "      <th>Close</th>\n",
       "      <th>Adj Close</th>\n",
       "      <th>Volume</th>\n",
       "    </tr>\n",
       "    <tr>\n",
       "      <th>Date</th>\n",
       "      <th></th>\n",
       "      <th></th>\n",
       "      <th></th>\n",
       "      <th></th>\n",
       "      <th></th>\n",
       "      <th></th>\n",
       "    </tr>\n",
       "  </thead>\n",
       "  <tbody>\n",
       "    <tr>\n",
       "      <th>2021-08-23</th>\n",
       "      <td>26.940001</td>\n",
       "      <td>27.309999</td>\n",
       "      <td>26.770000</td>\n",
       "      <td>27.020000</td>\n",
       "      <td>10.238599</td>\n",
       "      <td>70161500</td>\n",
       "    </tr>\n",
       "    <tr>\n",
       "      <th>2021-08-24</th>\n",
       "      <td>27.290001</td>\n",
       "      <td>27.629999</td>\n",
       "      <td>27.240000</td>\n",
       "      <td>27.580000</td>\n",
       "      <td>10.450798</td>\n",
       "      <td>49831400</td>\n",
       "    </tr>\n",
       "    <tr>\n",
       "      <th>2021-08-25</th>\n",
       "      <td>27.629999</td>\n",
       "      <td>27.830000</td>\n",
       "      <td>27.379999</td>\n",
       "      <td>27.730000</td>\n",
       "      <td>10.507634</td>\n",
       "      <td>46031200</td>\n",
       "    </tr>\n",
       "    <tr>\n",
       "      <th>2021-08-26</th>\n",
       "      <td>27.580000</td>\n",
       "      <td>27.879999</td>\n",
       "      <td>27.469999</td>\n",
       "      <td>27.490000</td>\n",
       "      <td>10.416693</td>\n",
       "      <td>41061300</td>\n",
       "    </tr>\n",
       "    <tr>\n",
       "      <th>2021-08-27</th>\n",
       "      <td>27.700001</td>\n",
       "      <td>28.490000</td>\n",
       "      <td>27.670000</td>\n",
       "      <td>28.490000</td>\n",
       "      <td>10.795620</td>\n",
       "      <td>76465300</td>\n",
       "    </tr>\n",
       "    <tr>\n",
       "      <th>...</th>\n",
       "      <td>...</td>\n",
       "      <td>...</td>\n",
       "      <td>...</td>\n",
       "      <td>...</td>\n",
       "      <td>...</td>\n",
       "      <td>...</td>\n",
       "    </tr>\n",
       "    <tr>\n",
       "      <th>2021-12-23</th>\n",
       "      <td>28.330000</td>\n",
       "      <td>28.420000</td>\n",
       "      <td>28.150000</td>\n",
       "      <td>28.330000</td>\n",
       "      <td>12.059264</td>\n",
       "      <td>28713600</td>\n",
       "    </tr>\n",
       "    <tr>\n",
       "      <th>2021-12-27</th>\n",
       "      <td>28.320000</td>\n",
       "      <td>28.780001</td>\n",
       "      <td>28.150000</td>\n",
       "      <td>28.750000</td>\n",
       "      <td>12.238046</td>\n",
       "      <td>44227900</td>\n",
       "    </tr>\n",
       "    <tr>\n",
       "      <th>2021-12-28</th>\n",
       "      <td>29.010000</td>\n",
       "      <td>29.280001</td>\n",
       "      <td>28.700001</td>\n",
       "      <td>28.780001</td>\n",
       "      <td>12.250818</td>\n",
       "      <td>30688100</td>\n",
       "    </tr>\n",
       "    <tr>\n",
       "      <th>2021-12-29</th>\n",
       "      <td>28.700001</td>\n",
       "      <td>28.900000</td>\n",
       "      <td>28.420000</td>\n",
       "      <td>28.540001</td>\n",
       "      <td>12.148656</td>\n",
       "      <td>35508400</td>\n",
       "    </tr>\n",
       "    <tr>\n",
       "      <th>2021-12-30</th>\n",
       "      <td>28.549999</td>\n",
       "      <td>28.700001</td>\n",
       "      <td>28.389999</td>\n",
       "      <td>28.450001</td>\n",
       "      <td>12.110345</td>\n",
       "      <td>43229100</td>\n",
       "    </tr>\n",
       "  </tbody>\n",
       "</table>\n",
       "<p>89 rows × 6 columns</p>\n",
       "</div>"
      ],
      "text/plain": [
       "                 Open       High        Low      Close  Adj Close    Volume\n",
       "Date                                                                       \n",
       "2021-08-23  26.940001  27.309999  26.770000  27.020000  10.238599  70161500\n",
       "2021-08-24  27.290001  27.629999  27.240000  27.580000  10.450798  49831400\n",
       "2021-08-25  27.629999  27.830000  27.379999  27.730000  10.507634  46031200\n",
       "2021-08-26  27.580000  27.879999  27.469999  27.490000  10.416693  41061300\n",
       "2021-08-27  27.700001  28.490000  27.670000  28.490000  10.795620  76465300\n",
       "...               ...        ...        ...        ...        ...       ...\n",
       "2021-12-23  28.330000  28.420000  28.150000  28.330000  12.059264  28713600\n",
       "2021-12-27  28.320000  28.780001  28.150000  28.750000  12.238046  44227900\n",
       "2021-12-28  29.010000  29.280001  28.700001  28.780001  12.250818  30688100\n",
       "2021-12-29  28.700001  28.900000  28.420000  28.540001  12.148656  35508400\n",
       "2021-12-30  28.549999  28.700001  28.389999  28.450001  12.110345  43229100\n",
       "\n",
       "[89 rows x 6 columns]"
      ]
     },
     "execution_count": 23,
     "metadata": {},
     "output_type": "execute_result"
    }
   ],
   "source": [
    "df1.loc[df1.index.year == 2021]"
   ]
  },
  {
   "cell_type": "code",
   "execution_count": 28,
   "id": "ddb8b12e",
   "metadata": {},
   "outputs": [],
   "source": [
    "# Cria uma coluna e preenche ela\n",
    "\n",
    "df1['dia_semana'] = df1.index.day_name()"
   ]
  },
  {
   "cell_type": "code",
   "execution_count": 32,
   "id": "a296e169",
   "metadata": {},
   "outputs": [
    {
     "data": {
      "text/plain": [
       "Index(['Monday', 'Tuesday', 'Wednesday', 'Thursday', 'Friday', 'Monday',\n",
       "       'Tuesday', 'Wednesday', 'Thursday', 'Friday',\n",
       "       ...\n",
       "       'Monday', 'Tuesday', 'Wednesday', 'Thursday', 'Friday', 'Monday',\n",
       "       'Tuesday', 'Wednesday', 'Thursday', 'Friday'],\n",
       "      dtype='object', name='Date', length=751)"
      ]
     },
     "execution_count": 32,
     "metadata": {},
     "output_type": "execute_result"
    }
   ],
   "source": [
    "df1.index.day_name()"
   ]
  },
  {
   "cell_type": "code",
   "execution_count": null,
   "id": "08f0beeb",
   "metadata": {},
   "outputs": [],
   "source": []
  },
  {
   "cell_type": "code",
   "execution_count": null,
   "id": "cb22d5a6",
   "metadata": {},
   "outputs": [],
   "source": []
  },
  {
   "cell_type": "code",
   "execution_count": null,
   "id": "6e48f14d",
   "metadata": {},
   "outputs": [],
   "source": []
  },
  {
   "cell_type": "code",
   "execution_count": null,
   "id": "ad248d8f",
   "metadata": {},
   "outputs": [],
   "source": []
  },
  {
   "cell_type": "code",
   "execution_count": null,
   "id": "06edc8c4",
   "metadata": {},
   "outputs": [],
   "source": []
  },
  {
   "cell_type": "code",
   "execution_count": null,
   "id": "9e3f64ab",
   "metadata": {},
   "outputs": [],
   "source": []
  },
  {
   "cell_type": "code",
   "execution_count": null,
   "id": "e1fe921a",
   "metadata": {},
   "outputs": [],
   "source": []
  },
  {
   "cell_type": "code",
   "execution_count": null,
   "id": "3b0ac248",
   "metadata": {},
   "outputs": [],
   "source": []
  }
 ],
 "metadata": {
  "kernelspec": {
   "display_name": "Python 3 (ipykernel)",
   "language": "python",
   "name": "python3"
  },
  "language_info": {
   "codemirror_mode": {
    "name": "ipython",
    "version": 3
   },
   "file_extension": ".py",
   "mimetype": "text/x-python",
   "name": "python",
   "nbconvert_exporter": "python",
   "pygments_lexer": "ipython3",
   "version": "3.11.5"
  }
 },
 "nbformat": 4,
 "nbformat_minor": 5
}
